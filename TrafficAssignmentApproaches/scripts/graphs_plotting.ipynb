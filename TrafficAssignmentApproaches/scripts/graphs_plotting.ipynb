{
 "cells": [
  {
   "cell_type": "code",
   "execution_count": 3,
   "metadata": {},
   "outputs": [],
   "source": [
    "import os\n",
    "import sys\n",
    "import numpy as np\n",
    "import matplotlib.pyplot as plt\n",
    "import seaborn as sns\n",
    "import pandas as pd\n",
    "\n",
    "%matplotlib inline"
   ]
  },
  {
   "cell_type": "code",
   "execution_count": null,
   "metadata": {},
   "outputs": [],
   "source": [
    "os.chdir('../performance_results')\n",
    "root = os.getcwd()\n",
    "root"
   ]
  },
  {
   "cell_type": "code",
   "execution_count": 42,
   "metadata": {},
   "outputs": [],
   "source": [
    "def get_dataset_info(dataset_name):\n",
    "    os.chdir(dataset_name)\n",
    "    csv_files = [file for file in os.listdir() if file.endswith('.csv')]\n",
    "    dataframes = []\n",
    "    approaches = []\n",
    "    for file in csv_files:\n",
    "        approaches.append(file[:-4])\n",
    "        df = pd.read_csv(file)\n",
    "        dataframes.append(df)\n",
    "    os.chdir('..')\n",
    "    return [dataframes, approaches]"
   ]
  },
  {
   "cell_type": "code",
   "execution_count": 43,
   "metadata": {},
   "outputs": [],
   "source": [
    "dataframes, approaches = get_dataset_info('SiouxFalls')"
   ]
  },
  {
   "cell_type": "code",
   "execution_count": 44,
   "metadata": {},
   "outputs": [
    {
     "data": {
      "text/html": [
       "<div>\n",
       "<style scoped>\n",
       "    .dataframe tbody tr th:only-of-type {\n",
       "        vertical-align: middle;\n",
       "    }\n",
       "\n",
       "    .dataframe tbody tr th {\n",
       "        vertical-align: top;\n",
       "    }\n",
       "\n",
       "    .dataframe thead th {\n",
       "        text-align: right;\n",
       "    }\n",
       "</style>\n",
       "<table border=\"1\" class=\"dataframe\">\n",
       "  <thead>\n",
       "    <tr style=\"text-align: right;\">\n",
       "      <th></th>\n",
       "      <th>RGAP</th>\n",
       "      <th>Objective Function</th>\n",
       "      <th>Time</th>\n",
       "    </tr>\n",
       "  </thead>\n",
       "  <tbody>\n",
       "    <tr>\n",
       "      <th>0</th>\n",
       "      <td>4.787500e-01</td>\n",
       "      <td>5792760.000</td>\n",
       "      <td>0.001</td>\n",
       "    </tr>\n",
       "    <tr>\n",
       "      <th>1</th>\n",
       "      <td>4.405078e-01</td>\n",
       "      <td>5661182.847</td>\n",
       "      <td>0.001</td>\n",
       "    </tr>\n",
       "    <tr>\n",
       "      <th>2</th>\n",
       "      <td>4.253819e-01</td>\n",
       "      <td>5594149.751</td>\n",
       "      <td>0.002</td>\n",
       "    </tr>\n",
       "    <tr>\n",
       "      <th>3</th>\n",
       "      <td>4.208946e-01</td>\n",
       "      <td>5574237.230</td>\n",
       "      <td>0.003</td>\n",
       "    </tr>\n",
       "    <tr>\n",
       "      <th>4</th>\n",
       "      <td>4.146905e-01</td>\n",
       "      <td>5519888.507</td>\n",
       "      <td>0.003</td>\n",
       "    </tr>\n",
       "    <tr>\n",
       "      <th>...</th>\n",
       "      <td>...</td>\n",
       "      <td>...</td>\n",
       "      <td>...</td>\n",
       "    </tr>\n",
       "    <tr>\n",
       "      <th>435</th>\n",
       "      <td>1.359993e-07</td>\n",
       "      <td>4231335.287</td>\n",
       "      <td>0.505</td>\n",
       "    </tr>\n",
       "    <tr>\n",
       "      <th>436</th>\n",
       "      <td>1.303666e-07</td>\n",
       "      <td>4231335.287</td>\n",
       "      <td>0.507</td>\n",
       "    </tr>\n",
       "    <tr>\n",
       "      <th>437</th>\n",
       "      <td>1.249672e-07</td>\n",
       "      <td>4231335.287</td>\n",
       "      <td>0.509</td>\n",
       "    </tr>\n",
       "    <tr>\n",
       "      <th>438</th>\n",
       "      <td>1.197914e-07</td>\n",
       "      <td>4231335.287</td>\n",
       "      <td>0.511</td>\n",
       "    </tr>\n",
       "    <tr>\n",
       "      <th>439</th>\n",
       "      <td>1.148300e-07</td>\n",
       "      <td>4231335.287</td>\n",
       "      <td>0.513</td>\n",
       "    </tr>\n",
       "  </tbody>\n",
       "</table>\n",
       "<p>440 rows × 3 columns</p>\n",
       "</div>"
      ],
      "text/plain": [
       "             RGAP  Objective Function   Time\n",
       "0    4.787500e-01         5792760.000  0.001\n",
       "1    4.405078e-01         5661182.847  0.001\n",
       "2    4.253819e-01         5594149.751  0.002\n",
       "3    4.208946e-01         5574237.230  0.003\n",
       "4    4.146905e-01         5519888.507  0.003\n",
       "..            ...                 ...    ...\n",
       "435  1.359993e-07         4231335.287  0.505\n",
       "436  1.303666e-07         4231335.287  0.507\n",
       "437  1.249672e-07         4231335.287  0.509\n",
       "438  1.197914e-07         4231335.287  0.511\n",
       "439  1.148300e-07         4231335.287  0.513\n",
       "\n",
       "[440 rows x 3 columns]"
      ]
     },
     "execution_count": 44,
     "metadata": {},
     "output_type": "execute_result"
    }
   ],
   "source": [
    "dataframes[0]"
   ]
  },
  {
   "cell_type": "code",
   "execution_count": 45,
   "metadata": {},
   "outputs": [
    {
     "data": {
      "text/plain": [
       "['RouteBasedKrylatov2023', 'TapasLineSearch']"
      ]
     },
     "execution_count": 45,
     "metadata": {},
     "output_type": "execute_result"
    }
   ],
   "source": [
    "approaches"
   ]
  },
  {
   "cell_type": "code",
   "execution_count": 46,
   "metadata": {},
   "outputs": [],
   "source": [
    "def plot_datasets_graphs(dataframes, approaches):\n",
    "    for [df, name] in zip(dataframes, approaches):\n",
    "        plt.plot(df[\"Time\"], df[\"RGAP\"], label = name)\n",
    "    plt.legend()\n",
    "    plt.yscale('log')\n",
    "    plt.grid(axis='x', which='major')\n",
    "    plt.grid(axis='y', which='major')\n",
    "    plt.yticks([10 ** i for i in range(-9, 0, 3)])\n",
    "    plt.xlabel('sec')\n",
    "    plt.ylabel('RGAP')\n",
    "    plt.show()"
   ]
  },
  {
   "cell_type": "code",
   "execution_count": 47,
   "metadata": {},
   "outputs": [
    {
     "data": {
      "image/png": "[encoded data removed]",
      "text/plain": [
       "<Figure size 640x480 with 1 Axes>"
      ]
     },
     "metadata": {},
     "output_type": "display_data"
    }
   ],
   "source": [
    "plot_datasets_graphs(dataframes, approaches)"
   ]
  }
 ],
 "metadata": {
  "kernelspec": {
   "display_name": "venv",
   "language": "python",
   "name": "python3"
  },
  "language_info": {
   "codemirror_mode": {
    "name": "ipython",
    "version": 3
   },
   "file_extension": ".py",
   "mimetype": "text/x-python",
   "name": "python",
   "nbconvert_exporter": "python",
   "pygments_lexer": "ipython3",
   "version": "3.12.6"
  }
 },
 "nbformat": 4,
 "nbformat_minor": 2
}

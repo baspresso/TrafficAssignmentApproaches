{
 "cells": [
  {
   "cell_type": "code",
   "execution_count": 1,
   "metadata": {},
   "outputs": [],
   "source": [
    "import os\n",
    "import sys\n",
    "import numpy as np\n",
    "import pandas as pd\n",
    "import openmatrix as omx"
   ]
  },
  {
   "cell_type": "code",
   "execution_count": 2,
   "metadata": {},
   "outputs": [
    {
     "data": {
      "text/plain": [
       "'c:\\\\Projects\\\\TrafficAssignmentApproaches\\\\data\\\\TransportationNetworks'"
      ]
     },
     "execution_count": 2,
     "metadata": {},
     "output_type": "execute_result"
    }
   ],
   "source": [
    "os.chdir('../data/TransportationNetworks')\n",
    "root = os.getcwd()\n",
    "root"
   ]
  },
  {
   "cell_type": "code",
   "execution_count": 3,
   "metadata": {},
   "outputs": [
    {
     "data": {
      "text/plain": [
       "['.git',\n",
       " 'Anaheim',\n",
       " 'Austin',\n",
       " 'Barcelona',\n",
       " 'Berlin-Center',\n",
       " 'Berlin-Friedrichshain',\n",
       " 'Berlin-Mitte-Center',\n",
       " 'Berlin-Mitte-Prenzlauerberg-Friedrichshain-Center',\n",
       " 'Berlin-Prenzlauerberg-Center',\n",
       " 'Berlin-Tiergarten',\n",
       " 'Birmingham-England',\n",
       " 'Braess-Example',\n",
       " 'chicago-regional',\n",
       " 'Chicago-Sketch',\n",
       " 'Eastern-Massachusetts',\n",
       " 'GoldCoast',\n",
       " 'Hessen-Asymmetric',\n",
       " 'Munich',\n",
       " 'Philadelphia',\n",
       " 'SiouxFalls',\n",
       " 'Sydney',\n",
       " 'SymmetricaTestCase',\n",
       " 'Terrassa-Asymmetric',\n",
       " 'Winnipeg',\n",
       " 'Winnipeg-Asymmetric',\n",
       " '_scripts']"
      ]
     },
     "execution_count": 3,
     "metadata": {},
     "output_type": "execute_result"
    }
   ],
   "source": [
    "folders = [x for x in os.listdir(root)[1:] if os.path.isdir(os.path.join(root, x))]\n",
    "folders"
   ]
  },
  {
   "cell_type": "code",
   "execution_count": 4,
   "metadata": {},
   "outputs": [],
   "source": [
    "# Function to import OMX matrices\n",
    "def import_matrix(matfile):\n",
    "    f = open(matfile, 'r')\n",
    "    all_rows = f.read()\n",
    "    blocks = all_rows.split('Origin')[1:]\n",
    "    matrix = {}\n",
    "    for k in range(len(blocks)):\n",
    "        orig = blocks[k].split('\\n')\n",
    "        dests = orig[1:]\n",
    "        orig=int(orig[0])\n",
    "\n",
    "        d = [eval('{'+a.replace(';',',').replace(' ','') +'}') for a in dests]\n",
    "        destinations = {}\n",
    "        for i in d:\n",
    "            destinations = {**destinations, **i}\n",
    "        matrix[orig] = destinations\n",
    "    zones = max(matrix.keys())\n",
    "    mat = np.zeros((zones, zones))\n",
    "    for i in range(zones):\n",
    "        for j in range(zones):\n",
    "            mat[i, j] = matrix.get(i+1,{}).get(j+1,0)\n",
    "            \n",
    "    return mat"
   ]
  },
  {
   "cell_type": "code",
   "execution_count": 7,
   "metadata": {},
   "outputs": [
    {
     "data": {
      "text/plain": [
       "array([[   0.,  100.,  100.,  500.,  200.,  300.,  500.,  800.,  500.,\n",
       "        1300.,  500.,  200.,  500.,  300.,  500.,  500.,  400.,  100.,\n",
       "         300.,  300.,  100.,  400.,  300.,  100.],\n",
       "       [ 100.,    0.,  100.,  200.,  100.,  400.,  200.,  400.,  200.,\n",
       "         600.,  200.,  100.,  300.,  100.,  100.,  400.,  200.,    0.,\n",
       "         100.,  100.,    0.,  100.,    0.,    0.],\n",
       "       [ 100.,  100.,    0.,  200.,  100.,  300.,  100.,  200.,  100.,\n",
       "         300.,  300.,  200.,  100.,  100.,  100.,  200.,  100.,    0.,\n",
       "           0.,    0.,    0.,  100.,  100.,    0.],\n",
       "       [ 500.,  200.,  200.,    0.,  500.,  400.,  400.,  700.,  700.,\n",
       "        1200., 1400.,  600.,  600.,  500.,  500.,  800.,  500.,  100.,\n",
       "         200.,  300.,  200.,  400.,  500.,  200.],\n",
       "       [ 200.,  100.,  100.,  500.,    0.,  200.,  200.,  500.,  800.,\n",
       "        1000.,  500.,  200.,  200.,  100.,  200.,  500.,  200.,    0.,\n",
       "         100.,  100.,  100.,  200.,  100.,    0.],\n",
       "       [ 300.,  400.,  300.,  400.,  200.,    0.,  400.,  800.,  400.,\n",
       "         800.,  400.,  200.,  200.,  100.,  200.,  900.,  500.,  100.,\n",
       "         200.,  300.,  100.,  200.,  100.,  100.],\n",
       "       [ 500.,  200.,  100.,  400.,  200.,  400.,    0., 1000.,  600.,\n",
       "        1900.,  500.,  700.,  400.,  200.,  500., 1400., 1000.,  200.,\n",
       "         400.,  500.,  200.,  500.,  200.,  100.],\n",
       "       [ 800.,  400.,  200.,  700.,  500.,  800., 1000.,    0.,  800.,\n",
       "        1600.,  800.,  600.,  600.,  400.,  600., 2200., 1400.,  300.,\n",
       "         700.,  900.,  400.,  500.,  300.,  200.],\n",
       "       [ 500.,  200.,  100.,  700.,  800.,  400.,  600.,  800.,    0.,\n",
       "        2800., 1400.,  600.,  600.,  600.,  900., 1400.,  900.,  200.,\n",
       "         400.,  600.,  300.,  700.,  500.,  200.],\n",
       "       [1300.,  600.,  300., 1200., 1000.,  800., 1900., 1600., 2800.,\n",
       "           0., 4000., 2000., 1900., 2100., 4000., 4400., 3900.,  700.,\n",
       "        1800., 2500., 1200., 2600., 1800.,  800.],\n",
       "       [ 500.,  200.,  300., 1500.,  500.,  400.,  500.,  800., 1400.,\n",
       "        3900.,    0., 1400., 1000., 1600., 1400., 1400., 1000.,  100.,\n",
       "         400.,  600.,  400., 1100., 1300.,  600.],\n",
       "       [ 200.,  100.,  200.,  600.,  200.,  200.,  700.,  600.,  600.,\n",
       "        2000., 1400.,    0., 1300.,  700.,  700.,  700.,  600.,  200.,\n",
       "         300.,  400.,  300.,  700.,  700.,  500.],\n",
       "       [ 500.,  300.,  100.,  600.,  200.,  200.,  400.,  600.,  600.,\n",
       "        1900., 1000., 1300.,    0.,  600.,  700.,  600.,  500.,  100.,\n",
       "         300.,  600.,  600., 1300.,  800.,  800.],\n",
       "       [ 300.,  100.,  100.,  500.,  100.,  100.,  200.,  400.,  600.,\n",
       "        2100., 1600.,  700.,  600.,    0., 1300.,  700.,  700.,  100.,\n",
       "         300.,  500.,  400., 1200., 1100.,  400.],\n",
       "       [ 500.,  100.,  100.,  500.,  200.,  200.,  500.,  600., 1000.,\n",
       "        4000., 1400.,  700.,  700., 1300.,    0., 1200., 1500.,  200.,\n",
       "         800., 1100.,  800., 2600., 1000.,  400.],\n",
       "       [ 500.,  400.,  200.,  800.,  500.,  900., 1400., 2200., 1400.,\n",
       "        4400., 1400.,  700.,  600.,  700., 1200.,    0., 2800.,  500.,\n",
       "        1300., 1600.,  600., 1200.,  500.,  300.],\n",
       "       [ 400.,  200.,  100.,  500.,  200.,  500., 1000., 1400.,  900.,\n",
       "        3900., 1000.,  600.,  500.,  700., 1500., 2800.,    0.,  600.,\n",
       "        1700., 1700.,  600., 1700.,  600.,  300.],\n",
       "       [ 100.,    0.,    0.,  100.,    0.,  100.,  200.,  300.,  200.,\n",
       "         700.,  200.,  200.,  100.,  100.,  200.,  500.,  600.,    0.,\n",
       "         300.,  400.,  100.,  300.,  100.,    0.],\n",
       "       [ 300.,  100.,    0.,  200.,  100.,  200.,  400.,  700.,  400.,\n",
       "        1800.,  400.,  300.,  300.,  300.,  800., 1300., 1700.,  300.,\n",
       "           0., 1200.,  400., 1200.,  300.,  100.],\n",
       "       [ 300.,  100.,    0.,  300.,  100.,  300.,  500.,  900.,  600.,\n",
       "        2500.,  600.,  500.,  600.,  500., 1100., 1600., 1700.,  400.,\n",
       "        1200.,    0., 1200., 2400.,  700.,  400.],\n",
       "       [ 100.,    0.,    0.,  200.,  100.,  100.,  200.,  400.,  300.,\n",
       "        1200.,  400.,  300.,  600.,  400.,  800.,  600.,  600.,  100.,\n",
       "         400., 1200.,    0., 1800.,  700.,  500.],\n",
       "       [ 400.,  100.,  100.,  400.,  200.,  200.,  500.,  500.,  700.,\n",
       "        2600., 1100.,  700., 1300., 1200., 2600., 1200., 1700.,  300.,\n",
       "        1200., 2400., 1800.,    0., 2100., 1100.],\n",
       "       [ 300.,    0.,  100.,  500.,  100.,  100.,  200.,  300.,  500.,\n",
       "        1800., 1300.,  700.,  800., 1100., 1000.,  500.,  600.,  100.,\n",
       "         300.,  700.,  700., 2100.,    0.,  700.],\n",
       "       [ 100.,    0.,    0.,  200.,    0.,  100.,  100.,  200.,  200.,\n",
       "         800.,  600.,  500.,  700.,  400.,  400.,  300.,  300.,    0.,\n",
       "         100.,  400.,  500., 1100.,  700.,    0.]])"
      ]
     },
     "execution_count": 7,
     "metadata": {},
     "output_type": "execute_result"
    }
   ],
   "source": [
    "import_matrix(os.path.join(root, 'SiouxFalls', 'SiouxFalls' + '_trips.tntp'))"
   ]
  },
  {
   "cell_type": "code",
   "execution_count": 5,
   "metadata": {},
   "outputs": [],
   "source": [
    "# Importing the networks into a Pandas dataframe consists of a single line of code\n",
    "# but we can also make sure all headers are lower case and without trailing spaces\n",
    "def import_net(f):\n",
    "    netfile = os.path.join(root, f, f + '_net.tntp')\n",
    "    net = pd.read_csv(netfile, skiprows=8, sep='\\t')\n",
    "\n",
    "    trimmed= [s.strip().lower() for s in net.columns]\n",
    "    net.columns = trimmed\n",
    "\n",
    "    # And drop the silly first andlast columns\n",
    "    net.drop(['~', ';'], axis=1, inplace=True)\n",
    "    return net"
   ]
  },
  {
   "cell_type": "code",
   "execution_count": 8,
   "metadata": {},
   "outputs": [
    {
     "data": {
      "text/html": [
       "<div>\n",
       "<style scoped>\n",
       "    .dataframe tbody tr th:only-of-type {\n",
       "        vertical-align: middle;\n",
       "    }\n",
       "\n",
       "    .dataframe tbody tr th {\n",
       "        vertical-align: top;\n",
       "    }\n",
       "\n",
       "    .dataframe thead th {\n",
       "        text-align: right;\n",
       "    }\n",
       "</style>\n",
       "<table border=\"1\" class=\"dataframe\">\n",
       "  <thead>\n",
       "    <tr style=\"text-align: right;\">\n",
       "      <th></th>\n",
       "      <th>init_node</th>\n",
       "      <th>term_node</th>\n",
       "      <th>capacity</th>\n",
       "      <th>length</th>\n",
       "      <th>free_flow_time</th>\n",
       "      <th>b</th>\n",
       "      <th>power</th>\n",
       "      <th>speed</th>\n",
       "      <th>toll</th>\n",
       "      <th>link_type</th>\n",
       "    </tr>\n",
       "  </thead>\n",
       "  <tbody>\n",
       "    <tr>\n",
       "      <th>0</th>\n",
       "      <td>1</td>\n",
       "      <td>3</td>\n",
       "      <td>1</td>\n",
       "      <td>100</td>\n",
       "      <td>1.000000e-08</td>\n",
       "      <td>1.000000e+09</td>\n",
       "      <td>1</td>\n",
       "      <td>0</td>\n",
       "      <td>0</td>\n",
       "      <td>1</td>\n",
       "    </tr>\n",
       "    <tr>\n",
       "      <th>1</th>\n",
       "      <td>1</td>\n",
       "      <td>4</td>\n",
       "      <td>1</td>\n",
       "      <td>100</td>\n",
       "      <td>5.000000e+01</td>\n",
       "      <td>2.000000e-02</td>\n",
       "      <td>1</td>\n",
       "      <td>0</td>\n",
       "      <td>0</td>\n",
       "      <td>1</td>\n",
       "    </tr>\n",
       "    <tr>\n",
       "      <th>2</th>\n",
       "      <td>3</td>\n",
       "      <td>2</td>\n",
       "      <td>1</td>\n",
       "      <td>100</td>\n",
       "      <td>5.000000e+01</td>\n",
       "      <td>2.000000e-02</td>\n",
       "      <td>1</td>\n",
       "      <td>0</td>\n",
       "      <td>0</td>\n",
       "      <td>1</td>\n",
       "    </tr>\n",
       "    <tr>\n",
       "      <th>3</th>\n",
       "      <td>3</td>\n",
       "      <td>4</td>\n",
       "      <td>1</td>\n",
       "      <td>100</td>\n",
       "      <td>1.000000e+01</td>\n",
       "      <td>1.000000e-01</td>\n",
       "      <td>1</td>\n",
       "      <td>0</td>\n",
       "      <td>0</td>\n",
       "      <td>1</td>\n",
       "    </tr>\n",
       "    <tr>\n",
       "      <th>4</th>\n",
       "      <td>4</td>\n",
       "      <td>2</td>\n",
       "      <td>1</td>\n",
       "      <td>100</td>\n",
       "      <td>1.000000e-08</td>\n",
       "      <td>1.000000e+09</td>\n",
       "      <td>1</td>\n",
       "      <td>0</td>\n",
       "      <td>0</td>\n",
       "      <td>1;</td>\n",
       "    </tr>\n",
       "  </tbody>\n",
       "</table>\n",
       "</div>"
      ],
      "text/plain": [
       "   init_node  term_node  capacity  length  free_flow_time             b  \\\n",
       "0          1          3         1     100    1.000000e-08  1.000000e+09   \n",
       "1          1          4         1     100    5.000000e+01  2.000000e-02   \n",
       "2          3          2         1     100    5.000000e+01  2.000000e-02   \n",
       "3          3          4         1     100    1.000000e+01  1.000000e-01   \n",
       "4          4          2         1     100    1.000000e-08  1.000000e+09   \n",
       "\n",
       "   power  speed  toll link_type  \n",
       "0      1      0     0         1  \n",
       "1      1      0     0         1  \n",
       "2      1      0     0         1  \n",
       "3      1      0     0         1  \n",
       "4      1      0     0        1;  "
      ]
     },
     "execution_count": 8,
     "metadata": {},
     "output_type": "execute_result"
    }
   ],
   "source": [
    "import_net('Braess')"
   ]
  },
  {
   "cell_type": "code",
   "execution_count": 9,
   "metadata": {},
   "outputs": [],
   "source": [
    "def process_dataset(net_name): \n",
    "    mat = import_matrix(os.path.join(root, net_name, net_name + '_trips.tntp'))\n",
    "    net = import_net(net_name)\n",
    "    number_of_zones = mat.shape[0]\n",
    "    number_of_nodes = net[['init_node', 'term_node']].max().max()\n",
    "    number_of_links = net.shape[0]\n",
    "    with open(os.path.join(root, net_name,  net_name + '_net.csv'), 'w') as f:\n",
    "        f.write(f\"# NUMBER OF ZONES:{number_of_zones},\")\n",
    "        f.write(f\"NUMBER OF NODES:{number_of_nodes},\")\n",
    "        f.write(f\"NUMBER OF LINKS:{number_of_links}\")\n",
    "        f.write(\"\\n\")\n",
    "\n",
    "        net.to_csv(f, index=False)\n",
    "    \n",
    "    with open(os.path.join(root, net_name,  net_name + '_trips.csv'), 'w') as f:\n",
    "        f.write(f\"# NUMBER OF ZONES:{number_of_zones}\")\n",
    "        f.write(\"\\n\") \n",
    "        \n",
    "        np.savetxt(f, mat, delimiter=',', fmt='%d')"
   ]
  },
  {
   "cell_type": "code",
   "execution_count": 10,
   "metadata": {},
   "outputs": [],
   "source": [
    "process_dataset('Braess')"
   ]
  }
 ],
 "metadata": {
  "kernelspec": {
   "display_name": "Python 3",
   "language": "python",
   "name": "python3"
  },
  "language_info": {
   "codemirror_mode": {
    "name": "ipython",
    "version": 3
   },
   "file_extension": ".py",
   "mimetype": "text/x-python",
   "name": "python",
   "nbconvert_exporter": "python",
   "pygments_lexer": "ipython3",
   "version": "3.12.6"
  }
 },
 "nbformat": 4,
 "nbformat_minor": 2
}
